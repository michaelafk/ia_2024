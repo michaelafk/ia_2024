{
 "cells": [
  {
   "metadata": {},
   "cell_type": "markdown",
   "source": [
    "# Exercici Pràctic: *Perceptró vs Regressió Logística*\n",
    "\n",
    "\n"
   ],
   "id": "924fb2134bb012d6"
  },
  {
   "metadata": {},
   "cell_type": "code",
   "outputs": [],
   "execution_count": null,
   "source": [
    "from sklearn.datasets import load_iris\n",
    "from sklearn.tree import DecisionTreeClassifier\n",
    "from sklearn.model_selection import train_test_split, cross_val_score, KFold\n",
    "import numpy as np"
   ],
   "id": "36a0c291924d7603"
  },
  {
   "metadata": {},
   "cell_type": "markdown",
   "source": [
    "## Carregam les dades: Iris\n",
    "\n",
    "El dataset Iris és un dels conjunts de dades més coneguts i utilitzats en el camp de l'aprenentatge automàtic i l'estadística. Va ser introduït per Ronald A. Fisher el 1936 en el seu treball sobre l'ús de l'anàlisi discriminant.\n",
    ".\n",
    "Característiques del dataset:\n",
    "\n",
    "* Nombre de mostres: 150\n",
    "\n",
    "* Nombre de característiques: 4 variables numèriques contínues:\n",
    "    - Llargada del sèpal (sepal length).\n",
    "    - Amplada del sèpal (sepal width).\n",
    "    - Llargada del pètal (petal length).\n",
    "    - Amplada del pètal (petal width).\n",
    "\n",
    "* Nombre de classes: 3 espècies de flors d'iris:\n",
    "    - Iris-setosa\n",
    "    - Iris-versicolor\n",
    "    - Iris-virginica\n",
    "Cada classe conté 50 mostres"
   ],
   "id": "3c9be5963ee5334c"
  },
  {
   "metadata": {},
   "cell_type": "code",
   "outputs": [],
   "execution_count": null,
   "source": [
    "# Càrrega del dataset\n",
    "iris = load_iris()\n",
    "X, y = iris.data, iris.target"
   ],
   "id": "66fb6354c891c262"
  },
  {
   "metadata": {},
   "cell_type": "code",
   "outputs": [],
   "execution_count": null,
   "source": "",
   "id": "7a609b5ac03ca6ef"
  },
  {
   "metadata": {},
   "cell_type": "markdown",
   "source": [
    "## Tasca\n",
    "\n",
    "1. Entrenar un model de regressió logística amb el *dataset* Iris, amb la divisió en entrenament i test.\n",
    "2. Entrenar un model de regressió logística amb el *dataset* Iris, amb *K-fold cross validation*.\n",
    "3. Comparar els resultats d'ambdós."
   ],
   "id": "6ced0098cd5de9d1"
  },
  {
   "metadata": {},
   "cell_type": "code",
   "outputs": [],
   "execution_count": null,
   "source": "",
   "id": "7a020499f372d541"
  }
 ],
 "metadata": {
  "kernelspec": {
   "display_name": "Python 3",
   "language": "python",
   "name": "python3"
  },
  "language_info": {
   "codemirror_mode": {
    "name": "ipython",
    "version": 2
   },
   "file_extension": ".py",
   "mimetype": "text/x-python",
   "name": "python",
   "nbconvert_exporter": "python",
   "pygments_lexer": "ipython2",
   "version": "2.7.6"
  }
 },
 "nbformat": 4,
 "nbformat_minor": 5
}
